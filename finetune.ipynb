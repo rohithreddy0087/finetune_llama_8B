{
 "cells": [
  {
   "cell_type": "code",
   "execution_count": 1,
   "metadata": {},
   "outputs": [
    {
     "name": "stderr",
     "output_type": "stream",
     "text": [
      "/root/miniconda3/envs/myenv/lib/python3.8/site-packages/tqdm/auto.py:21: TqdmWarning: IProgress not found. Please update jupyter and ipywidgets. See https://ipywidgets.readthedocs.io/en/stable/user_install.html\n",
      "  from .autonotebook import tqdm as notebook_tqdm\n"
     ]
    }
   ],
   "source": [
    "import torch, os, multiprocessing\n",
    "from datasets import load_dataset\n",
    "from peft import LoraConfig, prepare_model_for_kbit_training\n",
    "from transformers import (\n",
    "    AutoModelForCausalLM,\n",
    "    AutoTokenizer,\n",
    "    BitsAndBytesConfig,\n",
    "    set_seed\n",
    ")\n",
    "from trl import SFTTrainer, SFTConfig\n",
    "\n",
    "from accelerate import Accelerator\n",
    "\n",
    "accelerator = Accelerator()\n",
    "\n",
    "set_seed(1234)\n",
    "\n",
    "model_name = \"meta-llama/Meta-Llama-3.1-8B\"\n",
    "ds = load_dataset(\"tatsu-lab/alpaca\")\n",
    "\n",
    "\n",
    "def process(row):\n",
    "    row[\"text\"] = row[\"text\"]+\"<|end_of_text|>\"\n",
    "    return row\n",
    "ds = ds.map(\n",
    "    process,\n",
    "    num_proc= multiprocessing.cpu_count(),\n",
    "    load_from_cache_file=False,\n",
    ")\n",
    "\n",
    "tokenizer = AutoTokenizer.from_pretrained(model_name, use_fast=True)\n",
    "tokenizer.pad_token = \"<|finetune_right_pad_id|>\"\n",
    "tokenizer.pad_token_id = 128004\n",
    "tokenizer.padding_side = 'right'\n",
    "\n",
    "compute_dtype = torch.bfloat16 if torch.cuda.is_bf16_supported() else torch.float32\n",
    "attn_implementation = 'flash_attention_2' if torch.cuda.is_bf16_supported() else 'sdpa'\n",
    "device = 'cuda' if torch.cuda.is_available() else 'cpu'\n",
    "# compute_dtype = torch.float16\n",
    "# attn_implementation = 'sdpa'\n",
    "# device = 'cuda' if torch.cuda.is_available() else 'cpu'\n",
    "model = AutoModelForCausalLM.from_pretrained(\n",
    "          model_name, torch_dtype=compute_dtype, attn_implementation=attn_implementation\n",
    ")\n",
    "model = model.to(device)\n",
    "# Enable gradient computation for input embeddings during fine-tuning\n",
    "# This allows the embedding layer to be updated, improving adaptation to new data\n",
    "# we assign require_grad as True to the output variables of the embedding layer\n",
    "# although we tie the weights of LM head and input embeddings, the LM head has gradients flowing because of the loss, hence we only assign grad=true for outputs of input embedding layer\n",
    "# register forward hook executes after each forward call of a nn.Module(in this case the Embedding layer)\n",
    "def make_inputs_require_grad(module, input, output):\n",
    "    output.requires_grad_(True)\n",
    "model.get_input_embeddings().register_forward_hook(make_inputs_require_grad)\n",
    "# Moves gradients from GPU to CPU when there is no enough space to perform a forward pass on GPU\n",
    "model.gradient_checkpointing_enable(gradient_checkpointing_kwargs={'use_reentrant':True})\n",
    "# LoRA \n",
    "# W = base_weights + (lora_alpha/lora_rank)*(BA)\n",
    "peft_config = LoraConfig(\n",
    "        lora_alpha=16,\n",
    "        lora_dropout=0.05,\n",
    "        r=16,\n",
    "        bias=\"none\",\n",
    "        task_type=\"CAUSAL_LM\",\n",
    "        target_modules= ['k_proj', 'q_proj', 'v_proj', 'o_proj', \"gate_proj\", \"down_proj\", \"up_proj\"]\n",
    ")\n",
    "output_dir = \"./Llama3.1_8b_LoRA/\"\n",
    "training_arguments = SFTConfig(\n",
    "        output_dir=output_dir ,\n",
    "        eval_strategy=\"steps\",\n",
    "        evaluation_strategy=\"no\",\n",
    "        do_eval=False,\n",
    "        optim=\"adamw_torch\",\n",
    "        per_device_train_batch_size=1,\n",
    "        gradient_accumulation_steps=16,\n",
    "        per_device_eval_batch_size=1,\n",
    "        log_level=\"debug\",\n",
    "        logging_steps=1,\n",
    "        learning_rate=1e-4,\n",
    "        bf16 = True,\n",
    "        max_steps=50,\n",
    "        warmup_ratio=0.1,\n",
    "        lr_scheduler_type=\"linear\",\n",
    "        dataset_text_field=\"text\",\n",
    "        max_seq_length=512,\n",
    "        save_strategy=\"steps\",\n",
    "        save_steps=5,  # Save every 5 steps\n",
    "        save_total_limit=3\n",
    ")\n",
    "trainer = SFTTrainer(\n",
    "        model=model,\n",
    "        train_dataset=ds['train'],\n",
    "        peft_config=peft_config,\n",
    "        tokenizer=tokenizer,\n",
    "        args=training_arguments,\n",
    ")\n",
    "fsdp_plugin = trainer.accelerator.state.fsdp_plugin\n",
    "fsdp_plugin.auto_wrap_policy = fsdp_auto_wrap_policy(trainer.model)\n",
    "trainer.train()\n",
    "if trainer.is_fsdp_enabled:\n",
    "    trainer.accelerator.state.\n",
    "    fsdp_plugin.set_state_dict_type(\"FULL_STATE_DICT\")\n",
    "trainer.save_model(output_dir)"
   ]
  },
  {
   "cell_type": "code",
   "execution_count": 18,
   "metadata": {},
   "outputs": [
    {
     "name": "stdout",
     "output_type": "stream",
     "text": [
      "23007483904\n",
      "23154655232\n"
     ]
    }
   ],
   "source": [
    "import torch\n",
    "print(torch.cuda.memory_allocated())\n",
    "print(torch.cuda.memory_reserved())"
   ]
  },
  {
   "cell_type": "code",
   "execution_count": 17,
   "metadata": {},
   "outputs": [],
   "source": [
    "torch.cuda.empty_cache()"
   ]
  },
  {
   "cell_type": "code",
   "execution_count": 19,
   "metadata": {},
   "outputs": [
    {
     "name": "stdout",
     "output_type": "stream",
     "text": [
      "2\n",
      "0\n"
     ]
    }
   ],
   "source": [
    "print(torch.cuda.device_count())\n",
    "print(torch.cuda.current_device())"
   ]
  },
  {
   "cell_type": "code",
   "execution_count": null,
   "metadata": {},
   "outputs": [],
   "source": []
  }
 ],
 "metadata": {
  "kernelspec": {
   "display_name": "myenv",
   "language": "python",
   "name": "python3"
  },
  "language_info": {
   "codemirror_mode": {
    "name": "ipython",
    "version": 3
   },
   "file_extension": ".py",
   "mimetype": "text/x-python",
   "name": "python",
   "nbconvert_exporter": "python",
   "pygments_lexer": "ipython3",
   "version": "3.8.16"
  }
 },
 "nbformat": 4,
 "nbformat_minor": 2
}
